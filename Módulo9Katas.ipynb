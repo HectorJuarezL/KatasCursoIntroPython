{
 "cells": [
  {
   "cell_type": "markdown",
   "metadata": {},
   "source": [
    "# Ejercicio: Uso de funciones en Python"
   ]
  },
  {
   "cell_type": "markdown",
   "metadata": {},
   "source": [
    "### Ejercicio 1: Trabajar con argumentos en funciones\n",
    "\n",
    "Los argumentos requeridos en las funciones se utilizan cuando las funciones necesitan que esos argumentos funcionen correctamente. En este ejercicio, construirás un informe de combustible que requiere información de varias ubicaciones de combustible en todo el cohete.\n",
    "\n"
   ]
  },
  {
   "cell_type": "markdown",
   "metadata": {},
   "source": [
    "> **TIP**\n",
    "> Dedica unos minutos para tratar de encontrar una solución. Luego desplázate hacia abajo hasta la parte inferior para ver si has logrado compilar el programa de acuerdo con las especificaciones\n",
    "\n",
    "Comienza por crear una función que necesite tres lecturas de combustible y devuelva un informe:"
   ]
  },
  {
   "cell_type": "code",
   "execution_count": 3,
   "metadata": {},
   "outputs": [],
   "source": [
    "# Función para leer 3 tanques de combustible y muestre el promedio\n",
    "def informe(tanque_1,tanque_2,tanque_3):\n",
    "    total = (tanque_1+tanque_2+tanque_3)\n",
    "    inf =  'El valor del tanque 1 es: {}'\n",
    "    inf+='\\nEl valor del tanque 2 es: {}'\n",
    "    inf+='\\nEl valor del tanque 3 es: {}'\n",
    "    inf+='\\nEl total es de: {}'\n",
    "    inf+='\\nEl promedio es: {}'\n",
    "    return inf.format(tanque_1,tanque_2,tanque_3,total,total/3)"
   ]
  },
  {
   "cell_type": "markdown",
   "metadata": {},
   "source": [
    "Ahora que hemos definido la función de informes, vamos a comprobarlo. Para esta misión, los tanques no están llenos:"
   ]
  },
  {
   "cell_type": "code",
   "execution_count": 4,
   "metadata": {},
   "outputs": [
    {
     "name": "stdout",
     "output_type": "stream",
     "text": [
      "El valor del tanque 1 es: 90\n",
      "El valor del tanque 2 es: 75\n",
      "El valor del tanque 3 es: 60\n",
      "El total es de: 225\n",
      "El promedio es: 75.0\n"
     ]
    }
   ],
   "source": [
    "print(informe(90,75,60))\n",
    "# Llamamos a la función que genera el reporte print(funcion(tanque1, tanque2, tanque3))"
   ]
  },
  {
   "cell_type": "markdown",
   "metadata": {},
   "source": [
    "En lugar de simplemente crear el informe, la función también está calculando el promedio. Mejora la legibilidad extrayendo el cálculo promedio de la función en una nueva función para que el promedio se pueda hacer de forma independiente:"
   ]
  },
  {
   "cell_type": "code",
   "execution_count": 6,
   "metadata": {},
   "outputs": [],
   "source": [
    "# Función promedio \n",
    "def obtener_promedio(tanques):\n",
    "    suma = 0\n",
    "    n = len(tanques)\n",
    "    return sum(tanques)/n"
   ]
  },
  {
   "cell_type": "markdown",
   "metadata": {},
   "source": [
    "Ahora actualiza la función de informes para llamando a la nueva función del promedio:\n"
   ]
  },
  {
   "cell_type": "code",
   "execution_count": 8,
   "metadata": {},
   "outputs": [
    {
     "name": "stdout",
     "output_type": "stream",
     "text": [
      "El valor del tanque 1 es: 90\n",
      "El valor del tanque 2 es: 75\n",
      "El valor del tanque 3 es: 60\n",
      "El promedio es: 75.0\n"
     ]
    }
   ],
   "source": [
    "# Actualiza la función\n",
    "def informe(tanque_1,tanque_2,tanque_3):\n",
    "    promedio = obtener_promedio([tanque_1,tanque_2,tanque_3])\n",
    "    inf =  'El valor del tanque 1 es: {}'\n",
    "    inf+='\\nEl valor del tanque 2 es: {}'\n",
    "    inf+='\\nEl valor del tanque 3 es: {}'\n",
    "    inf+='\\nEl promedio es: {}'\n",
    "    return inf.format(tanque_1,tanque_2,tanque_3,promedio)\n",
    "print(informe(90,75,60))"
   ]
  },
  {
   "cell_type": "markdown",
   "metadata": {},
   "source": [
    "> Recuerda: Lo importante es intentarlo, puedes auxiliarte de internet, libros, etc. El objetivo de una kata es la comprobación de la comprensión de la lección y su aplicación inmediata a la resolución de problemas. Go for it!"
   ]
  },
  {
   "cell_type": "markdown",
   "metadata": {},
   "source": [
    "## Ejercicio 2: Trabajo con argumentos de palabra clave"
   ]
  },
  {
   "cell_type": "markdown",
   "metadata": {},
   "source": [
    "### Ejercicio : Trabajar con argumentos de palabras clave en funciones\n",
    "En este ejercicio, construirás un informe de cohete que requiere varias piezas de información, como el tiempo hasta el destino, el combustible a la izquierda y el nombre del destino. Comienza por crear una función que creará un informe preciso de la misión:"
   ]
  },
  {
   "cell_type": "code",
   "execution_count": 10,
   "metadata": {},
   "outputs": [
    {
     "name": "stdout",
     "output_type": "stream",
     "text": [
      "Hora de prelanzamiento: 12hrs\n",
      "Tiempo de vuelo: 2hrs\n",
      "Destino: México\n",
      "Combustible restante: 100\n"
     ]
    }
   ],
   "source": [
    "# Función con un informe preciso de la misión. Considera hora de prelanzamiento, tiempo de vuelo, destino, tanque externo y tanque interno\n",
    "def informe(hora_prelanzamiento,tiempo_de_vuelo,destino,tanque_externo,tanque_interno):\n",
    "    texto = 'Hora de prelanzamiento: {}hrs\\n'\n",
    "    texto+= 'Tiempo de vuelo: {}hrs\\n'\n",
    "    texto+= 'Destino: {}\\n'\n",
    "    texto+= 'Combustible restante: {}'\n",
    "    return texto.format(hora_prelanzamiento,tiempo_de_vuelo,destino,tanque_externo+tanque_interno)\n",
    "\n",
    "print(informe(12,2,'México',60,40))"
   ]
  },
  {
   "cell_type": "markdown",
   "metadata": {},
   "source": [
    "La función es problemática porque no se puede adaptar para minutos adicionales o tanques adicionales de combustible. Hazlo más flexible permitiendo cualquier número de pasos basados en el tiempo y cualquier número de tanques. En lugar de usar `*args` y `**kwargs`, aprovecha el hecho de que puedes usar cualquier nombre que desees. Asegurate que la función sea más legible mediante el uso de nombres de variables que están asociados con las entradas, como `*minutes` y `**fuel_reservoirs`:"
   ]
  },
  {
   "cell_type": "code",
   "execution_count": 11,
   "metadata": {},
   "outputs": [
    {
     "name": "stdout",
     "output_type": "stream",
     "text": [
      "Hora de prelanzamiento: 12hrs\n",
      "Tiempo de vuelo: 60m\n",
      "Combustible restante: 110\n"
     ]
    }
   ],
   "source": [
    "# Escribe tu nueva función de reporte considerando lo anterior\n",
    "def informe(hora_prelanzamiento,*minutos,**tanques):\n",
    "    texto = 'Hora de prelanzamiento: {}hrs\\n'\n",
    "    texto+= 'Tiempo de vuelo: {}m\\n'\n",
    "    texto+= 'Combustible restante: {}'\n",
    "    return texto.format(hora_prelanzamiento,sum(minutos),sum(tanques.values()))\n",
    "\n",
    "print(informe(12,10,20,30,tanque_exterior=40,tanque_interior=70))"
   ]
  },
  {
   "cell_type": "markdown",
   "metadata": {},
   "source": [
    "Debido a que el combustible que queda en los tanques es específico de cada tanque, actualiza la función para usar el nombre de cada tanque en el informe:"
   ]
  },
  {
   "cell_type": "code",
   "execution_count": 14,
   "metadata": {},
   "outputs": [
    {
     "name": "stdout",
     "output_type": "stream",
     "text": [
      "Hora de prelanzamiento: 12hrs\n",
      "Tiempo de vuelo: 60m\n",
      "Combustible restante:\n",
      "tanque_exterior : 40\n",
      "tanque_interior : 70\n",
      "\n"
     ]
    }
   ],
   "source": [
    "# Escribe tu nueva función\n",
    "def informe(hora_prelanzamiento,*minutos,**tanques):\n",
    "    texto = 'Hora de prelanzamiento: {}hrs\\n'\n",
    "    texto+= 'Tiempo de vuelo: {}m\\n'\n",
    "    texto+= 'Combustible restante:\\n'\n",
    "    for nombre,valor in tanques.items():\n",
    "        texto+= '{} : {}\\n'.format(nombre,valor)\n",
    "    return texto.format(hora_prelanzamiento,sum(minutos))\n",
    "\n",
    "print(informe(12,10,20,30,tanque_exterior=40,tanque_interior=70))"
   ]
  }
 ],
 "metadata": {
  "interpreter": {
   "hash": "205095b8b86ea82a021a8fc2ffba2b3bc9f8d0be25999901963b225939f75778"
  },
  "kernelspec": {
   "display_name": "Python 3 (ipykernel)",
   "language": "python",
   "name": "python3"
  },
  "language_info": {
   "codemirror_mode": {
    "name": "ipython",
    "version": 3
   },
   "file_extension": ".py",
   "mimetype": "text/x-python",
   "name": "python",
   "nbconvert_exporter": "python",
   "pygments_lexer": "ipython3",
   "version": "3.9.6"
  },
  "nteract": {
   "version": "nteract-front-end@1.0.0"
  }
 },
 "nbformat": 4,
 "nbformat_minor": 4
}
